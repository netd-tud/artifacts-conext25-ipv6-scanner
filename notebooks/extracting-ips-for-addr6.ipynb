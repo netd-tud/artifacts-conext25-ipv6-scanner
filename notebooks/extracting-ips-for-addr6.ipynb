{
 "cells": [
  {
   "cell_type": "code",
   "execution_count": 2,
   "id": "cdc074b0-870b-415d-a2ed-df6eb76ad58d",
   "metadata": {},
   "outputs": [],
   "source": [
    "import pandas as pd\n",
    "import numpy as np\n",
    "from tqdm.notebook import tqdm\n",
    "import glob"
   ]
  },
  {
   "cell_type": "code",
   "execution_count": 3,
   "id": "1117352f-d87e-4f93-9f93-262832ef2e16",
   "metadata": {},
   "outputs": [],
   "source": [
    "files = glob.glob('./unknown_address_types*')"
   ]
  },
  {
   "cell_type": "code",
   "execution_count": 4,
   "id": "03146aea-2607-4752-86f6-bafcac3db061",
   "metadata": {},
   "outputs": [
    {
     "data": {
      "text/plain": [
       "['./unknown_address_types-t1.csv',\n",
       " './unknown_address_types-t2.csv',\n",
       " './unknown_address_types-t3.csv',\n",
       " './unknown_address_types-t4.csv']"
      ]
     },
     "execution_count": 4,
     "metadata": {},
     "output_type": "execute_result"
    }
   ],
   "source": [
    "files"
   ]
  },
  {
   "cell_type": "code",
   "execution_count": 5,
   "id": "aed9fc9b-09fe-4c13-8acf-add2160f8e62",
   "metadata": {},
   "outputs": [
    {
     "data": {
      "application/vnd.jupyter.widget-view+json": {
       "model_id": "fe04981a5de74009a65264d53318ab74",
       "version_major": 2,
       "version_minor": 0
      },
      "text/plain": [
       "  0%|          | 0/4 [00:00<?, ?it/s]"
      ]
     },
     "metadata": {},
     "output_type": "display_data"
    }
   ],
   "source": [
    "df = pd.DataFrame()\n",
    "for t in tqdm(files):\n",
    "    tmp = pd.read_csv(t)\n",
    "    df = pd.concat([df,tmp],ignore_index=True)"
   ]
  },
  {
   "cell_type": "code",
   "execution_count": 7,
   "id": "e146b282-04fd-4b67-9159-d3c1228dda36",
   "metadata": {},
   "outputs": [],
   "source": [
    "df= df.drop_duplicates()"
   ]
  },
  {
   "cell_type": "code",
   "execution_count": 8,
   "id": "cc1ba8e6-9bdc-45b3-b103-0ae01750df89",
   "metadata": {},
   "outputs": [
    {
     "data": {
      "text/html": [
       "<div>\n",
       "<style scoped>\n",
       "    .dataframe tbody tr th:only-of-type {\n",
       "        vertical-align: middle;\n",
       "    }\n",
       "\n",
       "    .dataframe tbody tr th {\n",
       "        vertical-align: top;\n",
       "    }\n",
       "\n",
       "    .dataframe thead th {\n",
       "        text-align: right;\n",
       "    }\n",
       "</style>\n",
       "<table border=\"1\" class=\"dataframe\">\n",
       "  <thead>\n",
       "    <tr style=\"text-align: right;\">\n",
       "      <th></th>\n",
       "      <th>Destination_Address</th>\n",
       "    </tr>\n",
       "  </thead>\n",
       "  <tbody>\n",
       "    <tr>\n",
       "      <th>0</th>\n",
       "      <td>2a05:e747:5fd0:b177:4c4:8453:6725:a2a3</td>\n",
       "    </tr>\n",
       "    <tr>\n",
       "      <th>1</th>\n",
       "      <td>2a05:e747::1</td>\n",
       "    </tr>\n",
       "    <tr>\n",
       "      <th>2</th>\n",
       "      <td>2a05:e747::</td>\n",
       "    </tr>\n",
       "    <tr>\n",
       "      <th>3</th>\n",
       "      <td>2a05:e747::2</td>\n",
       "    </tr>\n",
       "    <tr>\n",
       "      <th>4</th>\n",
       "      <td>2a05:e747:6fe0:d82c:2758:de22:8f01:3601</td>\n",
       "    </tr>\n",
       "  </tbody>\n",
       "</table>\n",
       "</div>"
      ],
      "text/plain": [
       "                       Destination_Address\n",
       "0   2a05:e747:5fd0:b177:4c4:8453:6725:a2a3\n",
       "1                             2a05:e747::1\n",
       "2                              2a05:e747::\n",
       "3                             2a05:e747::2\n",
       "4  2a05:e747:6fe0:d82c:2758:de22:8f01:3601"
      ]
     },
     "execution_count": 8,
     "metadata": {},
     "output_type": "execute_result"
    }
   ],
   "source": [
    "df.head()"
   ]
  },
  {
   "cell_type": "code",
   "execution_count": 9,
   "id": "c7308394-35e5-43bb-87ae-8ccb9082f375",
   "metadata": {},
   "outputs": [
    {
     "data": {
      "text/plain": [
       "39949599"
      ]
     },
     "execution_count": 9,
     "metadata": {},
     "output_type": "execute_result"
    }
   ],
   "source": [
    "len(df)"
   ]
  },
  {
   "cell_type": "code",
   "execution_count": 12,
   "id": "25784345-1367-445b-8ac7-d9a5805bbc15",
   "metadata": {},
   "outputs": [],
   "source": [
    "addr_map01 = pd.read_csv('./addr_type_map',sep='|')"
   ]
  },
  {
   "cell_type": "code",
   "execution_count": 13,
   "id": "22a1d3bb-223d-430e-8cf0-5df63905d672",
   "metadata": {},
   "outputs": [
    {
     "data": {
      "text/html": [
       "<div>\n",
       "<style scoped>\n",
       "    .dataframe tbody tr th:only-of-type {\n",
       "        vertical-align: middle;\n",
       "    }\n",
       "\n",
       "    .dataframe tbody tr th {\n",
       "        vertical-align: top;\n",
       "    }\n",
       "\n",
       "    .dataframe thead th {\n",
       "        text-align: right;\n",
       "    }\n",
       "</style>\n",
       "<table border=\"1\" class=\"dataframe\">\n",
       "  <thead>\n",
       "    <tr style=\"text-align: right;\">\n",
       "      <th></th>\n",
       "      <th>ip_addr</th>\n",
       "      <th>addr_type</th>\n",
       "    </tr>\n",
       "  </thead>\n",
       "  <tbody>\n",
       "    <tr>\n",
       "      <th>0</th>\n",
       "      <td>2a05:e747::1</td>\n",
       "      <td>low-byte</td>\n",
       "    </tr>\n",
       "    <tr>\n",
       "      <th>1</th>\n",
       "      <td>2a05:e747::</td>\n",
       "      <td>full_zero_addr</td>\n",
       "    </tr>\n",
       "    <tr>\n",
       "      <th>2</th>\n",
       "      <td>2a05:e747::2</td>\n",
       "      <td>low-byte</td>\n",
       "    </tr>\n",
       "    <tr>\n",
       "      <th>3</th>\n",
       "      <td>2a05:e747:8f87:f66:37e6:c1f0:f398:2f47</td>\n",
       "      <td>randomized</td>\n",
       "    </tr>\n",
       "    <tr>\n",
       "      <th>4</th>\n",
       "      <td>2a05:e747:730d:97af:de8d:6eb1:a15c:6d3e</td>\n",
       "      <td>randomized</td>\n",
       "    </tr>\n",
       "    <tr>\n",
       "      <th>...</th>\n",
       "      <td>...</td>\n",
       "      <td>...</td>\n",
       "    </tr>\n",
       "    <tr>\n",
       "      <th>17882239</th>\n",
       "      <td>2a05:e747:ff39:fcbf:638c:5511:e972:6156</td>\n",
       "      <td>randomized</td>\n",
       "    </tr>\n",
       "    <tr>\n",
       "      <th>17882240</th>\n",
       "      <td>2a05:e747:71a1:3bd2:f463:777f:9691:1764</td>\n",
       "      <td>randomized</td>\n",
       "    </tr>\n",
       "    <tr>\n",
       "      <th>17882241</th>\n",
       "      <td>2a05:e747:fa43:a21f:ad77:7205:1da3:271d</td>\n",
       "      <td>randomized</td>\n",
       "    </tr>\n",
       "    <tr>\n",
       "      <th>17882242</th>\n",
       "      <td>2a05:e747:68e7:2d80:616b:fa55:9ff2:881f</td>\n",
       "      <td>randomized</td>\n",
       "    </tr>\n",
       "    <tr>\n",
       "      <th>17882243</th>\n",
       "      <td>2a05:e747:315f:b1f:eee4:b937:6edc:1b56</td>\n",
       "      <td>randomized</td>\n",
       "    </tr>\n",
       "  </tbody>\n",
       "</table>\n",
       "<p>17882244 rows × 2 columns</p>\n",
       "</div>"
      ],
      "text/plain": [
       "                                          ip_addr       addr_type\n",
       "0                                    2a05:e747::1        low-byte\n",
       "1                                     2a05:e747::  full_zero_addr\n",
       "2                                    2a05:e747::2        low-byte\n",
       "3          2a05:e747:8f87:f66:37e6:c1f0:f398:2f47      randomized\n",
       "4         2a05:e747:730d:97af:de8d:6eb1:a15c:6d3e      randomized\n",
       "...                                           ...             ...\n",
       "17882239  2a05:e747:ff39:fcbf:638c:5511:e972:6156      randomized\n",
       "17882240  2a05:e747:71a1:3bd2:f463:777f:9691:1764      randomized\n",
       "17882241  2a05:e747:fa43:a21f:ad77:7205:1da3:271d      randomized\n",
       "17882242  2a05:e747:68e7:2d80:616b:fa55:9ff2:881f      randomized\n",
       "17882243   2a05:e747:315f:b1f:eee4:b937:6edc:1b56      randomized\n",
       "\n",
       "[17882244 rows x 2 columns]"
      ]
     },
     "execution_count": 13,
     "metadata": {},
     "output_type": "execute_result"
    }
   ],
   "source": [
    "addr_map01"
   ]
  },
  {
   "cell_type": "code",
   "execution_count": 17,
   "id": "63565fc3-e030-4ea5-8bce-965b603ddf2c",
   "metadata": {},
   "outputs": [],
   "source": [
    "df[~df.Destination_Address.isin(addr_map01.ip_addr)].to_csv('remaining_unknown_addr_all_telescopes',header=False,index=False)"
   ]
  },
  {
   "cell_type": "code",
   "execution_count": null,
   "id": "85d3c46b-2b9a-4dd1-9510-404a36d21159",
   "metadata": {},
   "outputs": [],
   "source": []
  }
 ],
 "metadata": {
  "kernelspec": {
   "display_name": "Python 3 (ipykernel)",
   "language": "python",
   "name": "python3"
  },
  "language_info": {
   "codemirror_mode": {
    "name": "ipython",
    "version": 3
   },
   "file_extension": ".py",
   "mimetype": "text/x-python",
   "name": "python",
   "nbconvert_exporter": "python",
   "pygments_lexer": "ipython3",
   "version": "3.8.10"
  }
 },
 "nbformat": 4,
 "nbformat_minor": 5
}
