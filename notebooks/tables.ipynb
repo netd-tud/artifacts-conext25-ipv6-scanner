{
 "cells": [
  {
   "cell_type": "code",
   "execution_count": 1,
   "id": "3ac7d991-4524-4d81-9f80-29e2cf9c3df9",
   "metadata": {},
   "outputs": [
    {
     "name": "stderr",
     "output_type": "stream",
     "text": [
      "\u001b[32m2025-07-28 22:47:20.709\u001b[0m | \u001b[1mINFO    \u001b[0m | \u001b[36mipv6_scanner.config\u001b[0m:\u001b[36m<module>\u001b[0m:\u001b[36m11\u001b[0m - \u001b[1mPROJ_ROOT path is: /home/mk/AG_Internetmessungen/TU-Dresden/Work/IPv6-Scanning-And-Sensing/artifacts-conext25-ipv6-scanner\u001b[0m\n"
     ]
    }
   ],
   "source": [
    "import polars as pl\n",
    "from ipv6_scanner.config import *\n",
    "from ipv6_scanner.filter import *\n",
    "import datetime"
   ]
  },
  {
   "cell_type": "code",
   "execution_count": null,
   "id": "213c3dee-22f2-4f62-b6da-8d0ccb87e33b",
   "metadata": {},
   "outputs": [],
   "source": [
    "columns = ['Timestamp','scan_source_64','scan_source_128','Session_ID_128','Session_ID_64','dest_addr_type',\n",
    "           'UDP_src_port','UDP_dst_port','TCP_src_port','TCP_dst_port','Protocol',\n",
    "           'scantool','AS-Number','fullhex_destination_address','is_oneoff_128','period_128']"
   ]
  },
  {
   "cell_type": "code",
   "execution_count": 3,
   "id": "6f47b701-7904-463d-8b3c-32acbb879ead",
   "metadata": {},
   "outputs": [],
   "source": [
    "pl.enable_string_cache()"
   ]
  },
  {
   "cell_type": "code",
   "execution_count": 4,
   "id": "e33905a9-c6f7-474a-a88c-bdd3516f4426",
   "metadata": {},
   "outputs": [],
   "source": [
    "dft1 = pl.scan_parquet(T1_DATAFRAME).filter((pl.col('Timestamp')<pd.to_datetime('2024-07-03')))\n",
    "dft2 = pl.scan_parquet(T2_DATAFRAME).filter((pl.col('Timestamp')<pd.to_datetime('2024-07-03')))\n",
    "dft3 = pl.scan_parquet(T3_DATAFRAME).filter((pl.col('Timestamp')<pd.to_datetime('2024-07-03')))\n",
    "dft4 = pl.scan_parquet(T4_DATAFRAME).filter((pl.col('Timestamp')<pd.to_datetime('2024-07-03')))\n",
    "full_df = concat_frames([dft1,dft2,dft3,dft4],['T1','T2','T3','T4'],'Telescope',columns)"
   ]
  },
  {
   "cell_type": "markdown",
   "id": "2ad94af8-ad7a-416c-9023-e64867d61d29",
   "metadata": {},
   "source": [
    "# Table 02"
   ]
  },
  {
   "cell_type": "code",
   "execution_count": 5,
   "id": "352d7773-ef67-40b0-8415-9b1671c66c8c",
   "metadata": {},
   "outputs": [],
   "source": [
    "aggregated_df = full_df.select(['Timestamp','TCP_dst_port','UDP_dst_port','Protocol','scan_source_128','Session_ID_128','Session_ID_64','Telescope','dest_addr_type']).collect().to_pandas()"
   ]
  },
  {
   "cell_type": "code",
   "execution_count": 6,
   "id": "8fef5532-1993-46f7-95cf-fd742caf2609",
   "metadata": {},
   "outputs": [],
   "source": [
    "aggregated_df['Session_Unique'] = aggregated_df['Session_ID_128'].astype(str).str.cat(aggregated_df['Telescope'],sep='_')"
   ]
  },
  {
   "cell_type": "code",
   "execution_count": 7,
   "id": "2f787a27-8624-43c7-b01f-670d9e60f65f",
   "metadata": {},
   "outputs": [],
   "source": [
    "aggregated_df['Proto'] = None\n",
    "aggregated_df.loc[aggregated_df['Protocol'].isin(['TCP', 'ICMPv6', 'UDP']), 'Proto'] = aggregated_df['Protocol']\n",
    "\n",
    "aggregated_df.loc[(aggregated_df['Protocol'] != 'UDP') & (aggregated_df['Protocol'] != 'TCP') & (aggregated_df['Protocol'] != 'ICMPv6') & (aggregated_df['TCP_dst_port'].notnull()) & (aggregated_df['UDP_dst_port'].isnull()), 'Proto'] = 'TCP'\n",
    "aggregated_df.loc[(aggregated_df['Protocol'] != 'UDP') & (aggregated_df['Protocol'] != 'TCP') & (aggregated_df['Protocol'] != 'ICMPv6') & (aggregated_df['UDP_dst_port'].notnull()) & (aggregated_df['TCP_dst_port'].isnull()), 'Proto'] = 'UDP'\n",
    "nan_count = aggregated_df['Proto'].isnull().sum()"
   ]
  },
  {
   "cell_type": "code",
   "execution_count": 8,
   "id": "669ca654-755f-4d0e-8382-ccd310bbb7ac",
   "metadata": {},
   "outputs": [
    {
     "data": {
      "text/html": [
       "<div>\n",
       "<style scoped>\n",
       "    .dataframe tbody tr th:only-of-type {\n",
       "        vertical-align: middle;\n",
       "    }\n",
       "\n",
       "    .dataframe tbody tr th {\n",
       "        vertical-align: top;\n",
       "    }\n",
       "\n",
       "    .dataframe thead th {\n",
       "        text-align: right;\n",
       "    }\n",
       "</style>\n",
       "<table border=\"1\" class=\"dataframe\">\n",
       "  <thead>\n",
       "    <tr style=\"text-align: right;\">\n",
       "      <th></th>\n",
       "      <th>count</th>\n",
       "      <th>proportion</th>\n",
       "      <th>numsessions</th>\n",
       "      <th>relsessions</th>\n",
       "      <th>numsources</th>\n",
       "      <th>relsources</th>\n",
       "    </tr>\n",
       "    <tr>\n",
       "      <th>Proto</th>\n",
       "      <th></th>\n",
       "      <th></th>\n",
       "      <th></th>\n",
       "      <th></th>\n",
       "      <th></th>\n",
       "      <th></th>\n",
       "    </tr>\n",
       "  </thead>\n",
       "  <tbody>\n",
       "    <tr>\n",
       "      <th>ICMPv6</th>\n",
       "      <td>33889898</td>\n",
       "      <td>66.2</td>\n",
       "      <td>132832</td>\n",
       "      <td>20.1</td>\n",
       "      <td>20373</td>\n",
       "      <td>56.5</td>\n",
       "    </tr>\n",
       "    <tr>\n",
       "      <th>UDP</th>\n",
       "      <td>11967255</td>\n",
       "      <td>23.4</td>\n",
       "      <td>36770</td>\n",
       "      <td>5.6</td>\n",
       "      <td>7113</td>\n",
       "      <td>19.7</td>\n",
       "    </tr>\n",
       "    <tr>\n",
       "      <th>TCP</th>\n",
       "      <td>5372494</td>\n",
       "      <td>10.5</td>\n",
       "      <td>614223</td>\n",
       "      <td>92.8</td>\n",
       "      <td>19977</td>\n",
       "      <td>55.4</td>\n",
       "    </tr>\n",
       "  </tbody>\n",
       "</table>\n",
       "</div>"
      ],
      "text/plain": [
       "           count  proportion  numsessions  relsessions  numsources  relsources\n",
       "Proto                                                                         \n",
       "ICMPv6  33889898        66.2       132832         20.1       20373        56.5\n",
       "UDP     11967255        23.4        36770          5.6        7113        19.7\n",
       "TCP      5372494        10.5       614223         92.8       19977        55.4"
      ]
     },
     "execution_count": 8,
     "metadata": {},
     "output_type": "execute_result"
    }
   ],
   "source": [
    "aggregated_df.Proto.value_counts().to_frame()\\\n",
    ".join(round(aggregated_df.Proto.value_counts(normalize=True).to_frame()*100,1))\\\n",
    ".join(aggregated_df.groupby('Proto').agg(numsessions=('Session_ID_128','nunique')))\\\n",
    ".join(aggregated_df.groupby('Proto').agg(relsessions=('Session_ID_128',lambda s:round(s.nunique()/aggregated_df.Session_ID_128.nunique()*100,1))))\\\n",
    ".join(aggregated_df.groupby('Proto').agg(numsources=('scan_source_128','nunique')))\\\n",
    ".join(aggregated_df.groupby('Proto').agg(relsources=('scan_source_128',lambda s:round(s.nunique()/aggregated_df.scan_source_128.nunique()*100,1))))"
   ]
  },
  {
   "cell_type": "markdown",
   "id": "984c6dc7-e28a-4153-996d-24e94c8f9248",
   "metadata": {},
   "source": [
    "# Table 03"
   ]
  },
  {
   "cell_type": "code",
   "execution_count": 9,
   "id": "a9de10ec-39c0-4d8e-955d-f13ab6743d58",
   "metadata": {},
   "outputs": [
    {
     "data": {
      "text/html": [
       "<div>\n",
       "<style scoped>\n",
       "    .dataframe tbody tr th:only-of-type {\n",
       "        vertical-align: middle;\n",
       "    }\n",
       "\n",
       "    .dataframe tbody tr th {\n",
       "        vertical-align: top;\n",
       "    }\n",
       "\n",
       "    .dataframe thead th {\n",
       "        text-align: right;\n",
       "    }\n",
       "</style>\n",
       "<table border=\"1\" class=\"dataframe\">\n",
       "  <thead>\n",
       "    <tr style=\"text-align: right;\">\n",
       "      <th></th>\n",
       "      <th>count</th>\n",
       "      <th>proportion</th>\n",
       "      <th>numsources</th>\n",
       "      <th>relsources</th>\n",
       "    </tr>\n",
       "    <tr>\n",
       "      <th>dest_addr_type</th>\n",
       "      <th></th>\n",
       "      <th></th>\n",
       "      <th></th>\n",
       "      <th></th>\n",
       "    </tr>\n",
       "  </thead>\n",
       "  <tbody>\n",
       "    <tr>\n",
       "      <th>randomized</th>\n",
       "      <td>32911060</td>\n",
       "      <td>64.24</td>\n",
       "      <td>2101</td>\n",
       "      <td>5.83</td>\n",
       "    </tr>\n",
       "    <tr>\n",
       "      <th>low-byte</th>\n",
       "      <td>11828733</td>\n",
       "      <td>23.09</td>\n",
       "      <td>32350</td>\n",
       "      <td>89.71</td>\n",
       "    </tr>\n",
       "    <tr>\n",
       "      <th>pattern-bytes</th>\n",
       "      <td>3054847</td>\n",
       "      <td>5.96</td>\n",
       "      <td>570</td>\n",
       "      <td>1.58</td>\n",
       "    </tr>\n",
       "    <tr>\n",
       "      <th>embedded-ipv4</th>\n",
       "      <td>2026762</td>\n",
       "      <td>3.96</td>\n",
       "      <td>547</td>\n",
       "      <td>1.52</td>\n",
       "    </tr>\n",
       "    <tr>\n",
       "      <th>subnet-anycast</th>\n",
       "      <td>1173137</td>\n",
       "      <td>2.29</td>\n",
       "      <td>1476</td>\n",
       "      <td>4.09</td>\n",
       "    </tr>\n",
       "    <tr>\n",
       "      <th>embedded-port</th>\n",
       "      <td>138656</td>\n",
       "      <td>0.27</td>\n",
       "      <td>80</td>\n",
       "      <td>0.22</td>\n",
       "    </tr>\n",
       "    <tr>\n",
       "      <th>ieee-derived</th>\n",
       "      <td>96627</td>\n",
       "      <td>0.19</td>\n",
       "      <td>26</td>\n",
       "      <td>0.07</td>\n",
       "    </tr>\n",
       "    <tr>\n",
       "      <th>isatap</th>\n",
       "      <td>217</td>\n",
       "      <td>0.00</td>\n",
       "      <td>2</td>\n",
       "      <td>0.01</td>\n",
       "    </tr>\n",
       "  </tbody>\n",
       "</table>\n",
       "</div>"
      ],
      "text/plain": [
       "                   count  proportion  numsources  relsources\n",
       "dest_addr_type                                              \n",
       "randomized      32911060       64.24        2101        5.83\n",
       "low-byte        11828733       23.09       32350       89.71\n",
       "pattern-bytes    3054847        5.96         570        1.58\n",
       "embedded-ipv4    2026762        3.96         547        1.52\n",
       "subnet-anycast   1173137        2.29        1476        4.09\n",
       "embedded-port     138656        0.27          80        0.22\n",
       "ieee-derived       96627        0.19          26        0.07\n",
       "isatap               217        0.00           2        0.01"
      ]
     },
     "execution_count": 9,
     "metadata": {},
     "output_type": "execute_result"
    }
   ],
   "source": [
    "aggregated_df.dest_addr_type.value_counts().to_frame()\\\n",
    ".join(round(aggregated_df.dest_addr_type.value_counts(normalize=True).to_frame()*100,2))\\\n",
    ".join(aggregated_df.groupby('dest_addr_type').agg(numsources=('scan_source_128','nunique')))\\\n",
    ".join(aggregated_df.groupby('dest_addr_type').agg(relsources=('scan_source_128',lambda s:round(s.nunique()/aggregated_df.scan_source_128.nunique()*100,2)))).rename(index={\"full_zero_addr\": \"subnet-anycast\"})"
   ]
  },
  {
   "cell_type": "markdown",
   "id": "f9fe45ce-f5ab-4d71-a0b2-3a455f37c805",
   "metadata": {},
   "source": [
    "# Table 04"
   ]
  },
  {
   "cell_type": "markdown",
   "id": "b8dfc440-40f5-43f2-b3a5-ce5e7d775e7d",
   "metadata": {},
   "source": [
    "## TCP Part"
   ]
  },
  {
   "cell_type": "code",
   "execution_count": 10,
   "id": "67c235b7-0753-4087-a92a-35c8fba6c254",
   "metadata": {},
   "outputs": [],
   "source": [
    "tmp = full_df.with_columns(\n",
    "    udp_port = pl.when((pl.col('UDP_dst_port')>=33434) & (pl.col('UDP_dst_port')<=33523))\n",
    "    .then(pl.lit('Traceroute'))\n",
    "    .otherwise(pl.col('UDP_dst_port'))\n",
    ")"
   ]
  },
  {
   "cell_type": "code",
   "execution_count": 11,
   "id": "1dcfe0d2-a7bd-44ef-a213-b9d56394349b",
   "metadata": {},
   "outputs": [
    {
     "data": {
      "text/html": [
       "<div><style>\n",
       ".dataframe > thead > tr,\n",
       ".dataframe > tbody > tr {\n",
       "  text-align: right;\n",
       "  white-space: pre-wrap;\n",
       "}\n",
       "</style>\n",
       "<small>shape: (5, 3)</small><table border=\"1\" class=\"dataframe\"><thead><tr><th>TCP_dst_port</th><th>Sessions /64 [#]</th><th>Sessions /64 [%]</th></tr><tr><td>u16</td><td>u32</td><td>f64</td></tr></thead><tbody><tr><td>80</td><td>48070</td><td>87.2</td></tr><tr><td>443</td><td>16223</td><td>29.4</td></tr><tr><td>21</td><td>2592</td><td>4.7</td></tr><tr><td>8080</td><td>2172</td><td>3.9</td></tr><tr><td>22</td><td>1849</td><td>3.4</td></tr></tbody></table></div>"
      ],
      "text/plain": [
       "shape: (5, 3)\n",
       "┌──────────────┬──────────────────┬──────────────────┐\n",
       "│ TCP_dst_port ┆ Sessions /64 [#] ┆ Sessions /64 [%] │\n",
       "│ ---          ┆ ---              ┆ ---              │\n",
       "│ u16          ┆ u32              ┆ f64              │\n",
       "╞══════════════╪══════════════════╪══════════════════╡\n",
       "│ 80           ┆ 48070            ┆ 87.2             │\n",
       "│ 443          ┆ 16223            ┆ 29.4             │\n",
       "│ 21           ┆ 2592             ┆ 4.7              │\n",
       "│ 8080         ┆ 2172             ┆ 3.9              │\n",
       "│ 22           ┆ 1849             ┆ 3.4              │\n",
       "└──────────────┴──────────────────┴──────────────────┘"
      ]
     },
     "execution_count": 11,
     "metadata": {},
     "output_type": "execute_result"
    }
   ],
   "source": [
    "totalsessions_tcp_64 = tmp.filter(~pl.col('TCP_dst_port').is_null()).select('Session_ID_64').collect().n_unique()\n",
    "tmp.collect().filter(~pl.col('TCP_dst_port').is_null()).group_by('TCP_dst_port').agg(\n",
    "    pl.col('Session_ID_64').n_unique().alias('Sessions /64 [#]'),\n",
    "    (pl.col('Session_ID_64').n_unique()/totalsessions_tcp_64).mul(100).round(1).alias('Sessions /64 [%]'),\n",
    ").sort('Sessions /64 [#]',descending=True).head(5)"
   ]
  },
  {
   "cell_type": "markdown",
   "id": "d805d226-01d8-4a8a-a0d5-926921d329ea",
   "metadata": {},
   "source": [
    "## UDP Part"
   ]
  },
  {
   "cell_type": "code",
   "execution_count": 12,
   "id": "87eddbf6-1b69-4606-8c21-167cab372f11",
   "metadata": {},
   "outputs": [
    {
     "data": {
      "text/html": [
       "<div><style>\n",
       ".dataframe > thead > tr,\n",
       ".dataframe > tbody > tr {\n",
       "  text-align: right;\n",
       "  white-space: pre-wrap;\n",
       "}\n",
       "</style>\n",
       "<small>shape: (5, 3)</small><table border=\"1\" class=\"dataframe\"><thead><tr><th>udp_port</th><th>Sessions /64 [#]</th><th>Sessions /64 [%]</th></tr><tr><td>str</td><td>u32</td><td>f64</td></tr></thead><tbody><tr><td>&quot;Traceroute&quot;</td><td>7067</td><td>71.4</td></tr><tr><td>&quot;53&quot;</td><td>1945</td><td>19.7</td></tr><tr><td>&quot;161&quot;</td><td>1718</td><td>17.4</td></tr><tr><td>&quot;500&quot;</td><td>1710</td><td>17.3</td></tr><tr><td>&quot;123&quot;</td><td>1669</td><td>16.9</td></tr></tbody></table></div>"
      ],
      "text/plain": [
       "shape: (5, 3)\n",
       "┌────────────┬──────────────────┬──────────────────┐\n",
       "│ udp_port   ┆ Sessions /64 [#] ┆ Sessions /64 [%] │\n",
       "│ ---        ┆ ---              ┆ ---              │\n",
       "│ str        ┆ u32              ┆ f64              │\n",
       "╞════════════╪══════════════════╪══════════════════╡\n",
       "│ Traceroute ┆ 7067             ┆ 71.4             │\n",
       "│ 53         ┆ 1945             ┆ 19.7             │\n",
       "│ 161        ┆ 1718             ┆ 17.4             │\n",
       "│ 500        ┆ 1710             ┆ 17.3             │\n",
       "│ 123        ┆ 1669             ┆ 16.9             │\n",
       "└────────────┴──────────────────┴──────────────────┘"
      ]
     },
     "execution_count": 12,
     "metadata": {},
     "output_type": "execute_result"
    }
   ],
   "source": [
    "totalsessions_udp_64 = tmp.filter(~pl.col('udp_port').is_null()).select('Session_ID_64').collect().n_unique()\n",
    "tmp.collect().filter(~pl.col('udp_port').is_null()).group_by('udp_port').agg(\n",
    "    pl.col('Session_ID_64').n_unique().alias('Sessions /64 [#]'),\n",
    "    (pl.col('Session_ID_64').n_unique()/totalsessions_udp_64).mul(100).round(1).alias('Sessions /64 [%]'),\n",
    ").sort('Sessions /64 [#]',descending=True).head(5)"
   ]
  },
  {
   "cell_type": "markdown",
   "id": "a2fa4b2b-a7a8-40e9-9f4d-ff2caabfbb99",
   "metadata": {},
   "source": [
    "# Table 5(a)"
   ]
  },
  {
   "cell_type": "code",
   "execution_count": 13,
   "id": "23116e63-5d92-42dc-b1cb-59c3df8ffbc1",
   "metadata": {},
   "outputs": [],
   "source": [
    "before_split = full_df.filter((pl.col('Timestamp')<datetime.datetime(2023,11,22)))"
   ]
  },
  {
   "cell_type": "code",
   "execution_count": 14,
   "id": "5e263858-cbe3-431d-b2be-01015da42458",
   "metadata": {},
   "outputs": [],
   "source": [
    "before_split = before_split.with_columns(\n",
    "    temporal_behavior=pl.when(pl.col('is_oneoff_128'))\n",
    "                              .then(pl.lit('oneoff'))\n",
    "                              .when(pl.col('period_128')>0)\n",
    "                              .then(pl.lit('periodic'))\n",
    "                              .otherwise(pl.lit('intermittent'))\n",
    ")"
   ]
  },
  {
   "cell_type": "code",
   "execution_count": 15,
   "id": "1b8a969e-ee5f-4da0-bc73-8fffed21662c",
   "metadata": {},
   "outputs": [
    {
     "data": {
      "text/html": [
       "<div><style>\n",
       ".dataframe > thead > tr,\n",
       ".dataframe > tbody > tr {\n",
       "  text-align: right;\n",
       "  white-space: pre-wrap;\n",
       "}\n",
       "</style>\n",
       "<small>shape: (4, 6)</small><table border=\"1\" class=\"dataframe\"><thead><tr><th>Telescope</th><th>/128 Source addr.</th><th>/64 Source addr.</th><th>ASN</th><th>Destination addr.</th><th>Packets</th></tr><tr><td>str</td><td>u32</td><td>u32</td><td>u32</td><td>u32</td><td>u32</td></tr></thead><tbody><tr><td>&quot;T1&quot;</td><td>1387</td><td>1200</td><td>418</td><td>796444</td><td>2161355</td></tr><tr><td>&quot;T2&quot;</td><td>6612</td><td>2114</td><td>479</td><td>714169</td><td>2464808</td></tr><tr><td>&quot;T3&quot;</td><td>7</td><td>6</td><td>6</td><td>20</td><td>43</td></tr><tr><td>&quot;T4&quot;</td><td>253</td><td>251</td><td>9</td><td>1817</td><td>3416</td></tr></tbody></table></div>"
      ],
      "text/plain": [
       "shape: (4, 6)\n",
       "┌───────────┬───────────────────┬──────────────────┬─────┬───────────────────┬─────────┐\n",
       "│ Telescope ┆ /128 Source addr. ┆ /64 Source addr. ┆ ASN ┆ Destination addr. ┆ Packets │\n",
       "│ ---       ┆ ---               ┆ ---              ┆ --- ┆ ---               ┆ ---     │\n",
       "│ str       ┆ u32               ┆ u32              ┆ u32 ┆ u32               ┆ u32     │\n",
       "╞═══════════╪═══════════════════╪══════════════════╪═════╪═══════════════════╪═════════╡\n",
       "│ T1        ┆ 1387              ┆ 1200             ┆ 418 ┆ 796444            ┆ 2161355 │\n",
       "│ T2        ┆ 6612              ┆ 2114             ┆ 479 ┆ 714169            ┆ 2464808 │\n",
       "│ T3        ┆ 7                 ┆ 6                ┆ 6   ┆ 20                ┆ 43      │\n",
       "│ T4        ┆ 253               ┆ 251              ┆ 9   ┆ 1817              ┆ 3416    │\n",
       "└───────────┴───────────────────┴──────────────────┴─────┴───────────────────┴─────────┘"
      ]
     },
     "execution_count": 15,
     "metadata": {},
     "output_type": "execute_result"
    }
   ],
   "source": [
    "before_split.group_by('Telescope').agg(\n",
    "    pl.col('scan_source_128').n_unique().alias('/128 Source addr.'),\n",
    "    pl.col('scan_source_64').n_unique().alias('/64 Source addr.'),\n",
    "    pl.col('AS-Number').n_unique().alias('ASN'),\n",
    "    pl.col('fullhex_destination_address').n_unique().alias('Destination addr.'),\n",
    "    pl.len().alias('Packets')\n",
    ").sort('Telescope').collect()"
   ]
  },
  {
   "cell_type": "markdown",
   "id": "f2ad6bd2-ba5f-4f2c-b5bd-9e55f4e80038",
   "metadata": {},
   "source": [
    "# Table 5(b)"
   ]
  },
  {
   "cell_type": "markdown",
   "id": "d8db8915-4b49-49e1-b3f0-13e4cfadb08d",
   "metadata": {},
   "source": [
    "## T1"
   ]
  },
  {
   "cell_type": "code",
   "execution_count": 16,
   "id": "dd95eb8c-8c44-4770-996e-b81901b1098a",
   "metadata": {},
   "outputs": [],
   "source": [
    "tmp = dft1.filter((pl.col('Timestamp')<datetime.datetime(2023,11,22))).select(['Timestamp','TCP_dst_port','UDP_dst_port','Protocol','scan_source_128']).collect().to_pandas()"
   ]
  },
  {
   "cell_type": "code",
   "execution_count": 17,
   "id": "19f0fd61-b102-4103-873b-66f481acc7c4",
   "metadata": {},
   "outputs": [],
   "source": [
    "tmp['Proto'] = None\n",
    "tmp.loc[tmp['Protocol'].isin(['TCP', 'ICMPv6', 'UDP']), 'Proto'] = tmp['Protocol']\n",
    "\n",
    "tmp.loc[(tmp['Protocol'] != 'UDP') & (tmp['Protocol'] != 'TCP') & (tmp['Protocol'] != 'ICMPv6') & (tmp['TCP_dst_port'].notnull()) & (tmp['UDP_dst_port'].isnull()), 'Proto'] = 'TCP'\n",
    "tmp.loc[(tmp['Protocol'] != 'UDP') & (tmp['Protocol'] != 'TCP') & (tmp['Protocol'] != 'ICMPv6') & (tmp['UDP_dst_port'].notnull()) & (tmp['TCP_dst_port'].isnull()), 'Proto'] = 'UDP'\n",
    "nan_count = tmp['Proto'].isnull().sum()"
   ]
  },
  {
   "cell_type": "code",
   "execution_count": 18,
   "id": "fa829407-fca2-464d-94a6-d282632794f4",
   "metadata": {},
   "outputs": [
    {
     "data": {
      "text/html": [
       "<div>\n",
       "<style scoped>\n",
       "    .dataframe tbody tr th:only-of-type {\n",
       "        vertical-align: middle;\n",
       "    }\n",
       "\n",
       "    .dataframe tbody tr th {\n",
       "        vertical-align: top;\n",
       "    }\n",
       "\n",
       "    .dataframe thead th {\n",
       "        text-align: right;\n",
       "    }\n",
       "</style>\n",
       "<table border=\"1\" class=\"dataframe\">\n",
       "  <thead>\n",
       "    <tr style=\"text-align: right;\">\n",
       "      <th></th>\n",
       "      <th>numsources</th>\n",
       "      <th>relsources</th>\n",
       "    </tr>\n",
       "    <tr>\n",
       "      <th>Proto</th>\n",
       "      <th></th>\n",
       "      <th></th>\n",
       "    </tr>\n",
       "  </thead>\n",
       "  <tbody>\n",
       "    <tr>\n",
       "      <th>ICMPv6</th>\n",
       "      <td>1114</td>\n",
       "      <td>80.3</td>\n",
       "    </tr>\n",
       "    <tr>\n",
       "      <th>TCP</th>\n",
       "      <td>37</td>\n",
       "      <td>2.7</td>\n",
       "    </tr>\n",
       "    <tr>\n",
       "      <th>UDP</th>\n",
       "      <td>265</td>\n",
       "      <td>19.1</td>\n",
       "    </tr>\n",
       "  </tbody>\n",
       "</table>\n",
       "</div>"
      ],
      "text/plain": [
       "        numsources  relsources\n",
       "Proto                         \n",
       "ICMPv6        1114        80.3\n",
       "TCP             37         2.7\n",
       "UDP            265        19.1"
      ]
     },
     "execution_count": 18,
     "metadata": {},
     "output_type": "execute_result"
    }
   ],
   "source": [
    "tmp.groupby('Proto').agg(numsources=('scan_source_128','nunique'))\\\n",
    ".join(tmp.groupby('Proto').agg(relsources=('scan_source_128',lambda s:round(s.nunique()/tmp.scan_source_128.nunique()*100,1))))"
   ]
  },
  {
   "cell_type": "markdown",
   "id": "db7a6df7-200c-43d4-af70-94a0f904df59",
   "metadata": {},
   "source": [
    "## T2"
   ]
  },
  {
   "cell_type": "code",
   "execution_count": 19,
   "id": "fc611f5b-0cb4-4808-98d6-8633d8c98d7e",
   "metadata": {},
   "outputs": [],
   "source": [
    "tmp = dft2.filter((pl.col('Timestamp')<datetime.datetime(2023,11,22))).select(['Timestamp','TCP_dst_port','UDP_dst_port','Protocol','scan_source_128']).collect().to_pandas()"
   ]
  },
  {
   "cell_type": "code",
   "execution_count": 20,
   "id": "2caebb18-3b5a-4025-b060-ac03d97b8839",
   "metadata": {},
   "outputs": [],
   "source": [
    "tmp['Proto'] = None\n",
    "tmp.loc[tmp['Protocol'].isin(['TCP', 'ICMPv6', 'UDP']), 'Proto'] = tmp['Protocol']\n",
    "\n",
    "tmp.loc[(tmp['Protocol'] != 'UDP') & (tmp['Protocol'] != 'TCP') & (tmp['Protocol'] != 'ICMPv6') & (tmp['TCP_dst_port'].notnull()) & (tmp['UDP_dst_port'].isnull()), 'Proto'] = 'TCP'\n",
    "tmp.loc[(tmp['Protocol'] != 'UDP') & (tmp['Protocol'] != 'TCP') & (tmp['Protocol'] != 'ICMPv6') & (tmp['UDP_dst_port'].notnull()) & (tmp['TCP_dst_port'].isnull()), 'Proto'] = 'UDP'\n",
    "nan_count = tmp['Proto'].isnull().sum()"
   ]
  },
  {
   "cell_type": "code",
   "execution_count": 21,
   "id": "5e85c0cd-65d7-4cd8-b5fd-4654cc44d3e2",
   "metadata": {},
   "outputs": [
    {
     "data": {
      "text/html": [
       "<div>\n",
       "<style scoped>\n",
       "    .dataframe tbody tr th:only-of-type {\n",
       "        vertical-align: middle;\n",
       "    }\n",
       "\n",
       "    .dataframe tbody tr th {\n",
       "        vertical-align: top;\n",
       "    }\n",
       "\n",
       "    .dataframe thead th {\n",
       "        text-align: right;\n",
       "    }\n",
       "</style>\n",
       "<table border=\"1\" class=\"dataframe\">\n",
       "  <thead>\n",
       "    <tr style=\"text-align: right;\">\n",
       "      <th></th>\n",
       "      <th>numsources</th>\n",
       "      <th>relsources</th>\n",
       "    </tr>\n",
       "    <tr>\n",
       "      <th>Proto</th>\n",
       "      <th></th>\n",
       "      <th></th>\n",
       "    </tr>\n",
       "  </thead>\n",
       "  <tbody>\n",
       "    <tr>\n",
       "      <th>ICMPv6</th>\n",
       "      <td>4112</td>\n",
       "      <td>62.2</td>\n",
       "    </tr>\n",
       "    <tr>\n",
       "      <th>TCP</th>\n",
       "      <td>5311</td>\n",
       "      <td>80.3</td>\n",
       "    </tr>\n",
       "    <tr>\n",
       "      <th>UDP</th>\n",
       "      <td>1768</td>\n",
       "      <td>26.7</td>\n",
       "    </tr>\n",
       "  </tbody>\n",
       "</table>\n",
       "</div>"
      ],
      "text/plain": [
       "        numsources  relsources\n",
       "Proto                         \n",
       "ICMPv6        4112        62.2\n",
       "TCP           5311        80.3\n",
       "UDP           1768        26.7"
      ]
     },
     "execution_count": 21,
     "metadata": {},
     "output_type": "execute_result"
    }
   ],
   "source": [
    "tmp.groupby('Proto').agg(numsources=('scan_source_128','nunique'))\\\n",
    ".join(tmp.groupby('Proto').agg(relsources=('scan_source_128',lambda s:round(s.nunique()/tmp.scan_source_128.nunique()*100,1))))"
   ]
  },
  {
   "cell_type": "markdown",
   "id": "10c38c73-e24e-475b-9c62-5d61be876f8d",
   "metadata": {},
   "source": [
    "## T3"
   ]
  },
  {
   "cell_type": "code",
   "execution_count": 22,
   "id": "203800c6-b2af-416a-8b10-7baf7d2fbeb0",
   "metadata": {},
   "outputs": [],
   "source": [
    "tmp = dft3.filter((pl.col('Timestamp')<datetime.datetime(2023,11,22))).select(['Timestamp','TCP_dst_port','UDP_dst_port','Protocol','scan_source_128']).collect().to_pandas()"
   ]
  },
  {
   "cell_type": "code",
   "execution_count": 23,
   "id": "c78afb72-b8ea-425d-85b6-259418a20fac",
   "metadata": {},
   "outputs": [],
   "source": [
    "tmp['Proto'] = None\n",
    "tmp.loc[tmp['Protocol'].isin(['TCP', 'ICMPv6', 'UDP']), 'Proto'] = tmp['Protocol']\n",
    "\n",
    "tmp.loc[(tmp['Protocol'] != 'UDP') & (tmp['Protocol'] != 'TCP') & (tmp['Protocol'] != 'ICMPv6') & (tmp['TCP_dst_port'].notnull()) & (tmp['UDP_dst_port'].isnull()), 'Proto'] = 'TCP'\n",
    "tmp.loc[(tmp['Protocol'] != 'UDP') & (tmp['Protocol'] != 'TCP') & (tmp['Protocol'] != 'ICMPv6') & (tmp['UDP_dst_port'].notnull()) & (tmp['TCP_dst_port'].isnull()), 'Proto'] = 'UDP'\n",
    "nan_count = tmp['Proto'].isnull().sum()"
   ]
  },
  {
   "cell_type": "code",
   "execution_count": 24,
   "id": "d3e5b2e9-2dac-41d1-ac6b-00158dc63765",
   "metadata": {},
   "outputs": [
    {
     "data": {
      "text/html": [
       "<div>\n",
       "<style scoped>\n",
       "    .dataframe tbody tr th:only-of-type {\n",
       "        vertical-align: middle;\n",
       "    }\n",
       "\n",
       "    .dataframe tbody tr th {\n",
       "        vertical-align: top;\n",
       "    }\n",
       "\n",
       "    .dataframe thead th {\n",
       "        text-align: right;\n",
       "    }\n",
       "</style>\n",
       "<table border=\"1\" class=\"dataframe\">\n",
       "  <thead>\n",
       "    <tr style=\"text-align: right;\">\n",
       "      <th></th>\n",
       "      <th>numsources</th>\n",
       "      <th>relsources</th>\n",
       "    </tr>\n",
       "    <tr>\n",
       "      <th>Proto</th>\n",
       "      <th></th>\n",
       "      <th></th>\n",
       "    </tr>\n",
       "  </thead>\n",
       "  <tbody>\n",
       "    <tr>\n",
       "      <th>ICMPv6</th>\n",
       "      <td>7</td>\n",
       "      <td>100.0</td>\n",
       "    </tr>\n",
       "  </tbody>\n",
       "</table>\n",
       "</div>"
      ],
      "text/plain": [
       "        numsources  relsources\n",
       "Proto                         \n",
       "ICMPv6           7       100.0"
      ]
     },
     "execution_count": 24,
     "metadata": {},
     "output_type": "execute_result"
    }
   ],
   "source": [
    "tmp.groupby('Proto').agg(numsources=('scan_source_128','nunique'))\\\n",
    ".join(tmp.groupby('Proto').agg(relsources=('scan_source_128',lambda s:round(s.nunique()/tmp.scan_source_128.nunique()*100,1))))"
   ]
  },
  {
   "cell_type": "markdown",
   "id": "141118d1-45b6-4836-8cd3-825dc1cbc240",
   "metadata": {},
   "source": [
    "## T4"
   ]
  },
  {
   "cell_type": "code",
   "execution_count": 25,
   "id": "dabe34a2-ede3-4840-8672-2d475714a317",
   "metadata": {},
   "outputs": [],
   "source": [
    "tmp = dft4.filter((pl.col('Timestamp')<datetime.datetime(2023,11,22))).select(['Timestamp','TCP_dst_port','UDP_dst_port','Protocol','scan_source_128']).collect().to_pandas()"
   ]
  },
  {
   "cell_type": "code",
   "execution_count": 26,
   "id": "cc8182b2-b19e-4789-9d57-84eef4aa32e3",
   "metadata": {},
   "outputs": [],
   "source": [
    "tmp['Proto'] = None\n",
    "tmp.loc[tmp['Protocol'].isin(['TCP', 'ICMPv6', 'UDP']), 'Proto'] = tmp['Protocol']\n",
    "\n",
    "tmp.loc[(tmp['Protocol'] != 'UDP') & (tmp['Protocol'] != 'TCP') & (tmp['Protocol'] != 'ICMPv6') & (tmp['TCP_dst_port'].notnull()) & (tmp['UDP_dst_port'].isnull()), 'Proto'] = 'TCP'\n",
    "tmp.loc[(tmp['Protocol'] != 'UDP') & (tmp['Protocol'] != 'TCP') & (tmp['Protocol'] != 'ICMPv6') & (tmp['UDP_dst_port'].notnull()) & (tmp['TCP_dst_port'].isnull()), 'Proto'] = 'UDP'\n",
    "nan_count = tmp['Proto'].isnull().sum()"
   ]
  },
  {
   "cell_type": "code",
   "execution_count": 27,
   "id": "4ca372b2-1f75-4074-9960-441e9f9cab0c",
   "metadata": {},
   "outputs": [
    {
     "data": {
      "text/html": [
       "<div>\n",
       "<style scoped>\n",
       "    .dataframe tbody tr th:only-of-type {\n",
       "        vertical-align: middle;\n",
       "    }\n",
       "\n",
       "    .dataframe tbody tr th {\n",
       "        vertical-align: top;\n",
       "    }\n",
       "\n",
       "    .dataframe thead th {\n",
       "        text-align: right;\n",
       "    }\n",
       "</style>\n",
       "<table border=\"1\" class=\"dataframe\">\n",
       "  <thead>\n",
       "    <tr style=\"text-align: right;\">\n",
       "      <th></th>\n",
       "      <th>numsources</th>\n",
       "      <th>relsources</th>\n",
       "    </tr>\n",
       "    <tr>\n",
       "      <th>Proto</th>\n",
       "      <th></th>\n",
       "      <th></th>\n",
       "    </tr>\n",
       "  </thead>\n",
       "  <tbody>\n",
       "    <tr>\n",
       "      <th>ICMPv6</th>\n",
       "      <td>246</td>\n",
       "      <td>97.2</td>\n",
       "    </tr>\n",
       "    <tr>\n",
       "      <th>TCP</th>\n",
       "      <td>6</td>\n",
       "      <td>2.4</td>\n",
       "    </tr>\n",
       "    <tr>\n",
       "      <th>UDP</th>\n",
       "      <td>1</td>\n",
       "      <td>0.4</td>\n",
       "    </tr>\n",
       "  </tbody>\n",
       "</table>\n",
       "</div>"
      ],
      "text/plain": [
       "        numsources  relsources\n",
       "Proto                         \n",
       "ICMPv6         246        97.2\n",
       "TCP              6         2.4\n",
       "UDP              1         0.4"
      ]
     },
     "execution_count": 27,
     "metadata": {},
     "output_type": "execute_result"
    }
   ],
   "source": [
    "tmp.groupby('Proto').agg(numsources=('scan_source_128','nunique'))\\\n",
    ".join(tmp.groupby('Proto').agg(relsources=('scan_source_128',lambda s:round(s.nunique()/tmp.scan_source_128.nunique()*100,1))))"
   ]
  },
  {
   "cell_type": "markdown",
   "id": "18f3c06d-c132-4a80-bfc9-42d746827688",
   "metadata": {},
   "source": [
    "# Table 6"
   ]
  },
  {
   "cell_type": "code",
   "execution_count": 28,
   "id": "b1a6073c-0b46-4764-952a-38598aea52d5",
   "metadata": {},
   "outputs": [],
   "source": [
    "tmp = dft1.select(['Timestamp','scan_source_128','Session_ID_128','is_oneoff_128','period_128','scan_behavior_128']).collect()"
   ]
  },
  {
   "cell_type": "code",
   "execution_count": 29,
   "id": "e2df08b0-94bd-4304-95e4-45f81a8e73d3",
   "metadata": {},
   "outputs": [],
   "source": [
    "total_sources = tmp.select('scan_source_128').n_unique()\n",
    "total_sessions = tmp.select('Session_ID_128').n_unique()"
   ]
  },
  {
   "cell_type": "code",
   "execution_count": 30,
   "id": "d067c5e6-03e0-4ab7-ae7c-c690abb1cb34",
   "metadata": {},
   "outputs": [],
   "source": [
    "tmp = tmp.with_columns(\n",
    "    pl.when(pl.col('is_oneoff_128'))\n",
    "            .then(pl.lit('One-off'))\n",
    "            .when(pl.col('period_128')>0)\n",
    "            .then(pl.lit('Periodic'))\n",
    "            .otherwise(pl.lit('Intermittent')).alias('Temporal behavior')\n",
    ")"
   ]
  },
  {
   "cell_type": "code",
   "execution_count": 31,
   "id": "b9319681-e055-49d5-a16d-e9e32762882b",
   "metadata": {},
   "outputs": [
    {
     "data": {
      "text/html": [
       "<div><style>\n",
       ".dataframe > thead > tr,\n",
       ".dataframe > tbody > tr {\n",
       "  text-align: right;\n",
       "  white-space: pre-wrap;\n",
       "}\n",
       "</style>\n",
       "<small>shape: (3, 5)</small><table border=\"1\" class=\"dataframe\"><thead><tr><th>Temporal behavior</th><th>Sources [#]</th><th>Sources [%]</th><th>Sessions [#]</th><th>Sessions [%]</th></tr><tr><td>str</td><td>u32</td><td>f64</td><td>u32</td><td>f64</td></tr></thead><tbody><tr><td>&quot;One-off&quot;</td><td>8244</td><td>69.71</td><td>8244</td><td>8.95</td></tr><tr><td>&quot;Intermittent&quot;</td><td>1832</td><td>15.49</td><td>16842</td><td>18.28</td></tr><tr><td>&quot;Periodic&quot;</td><td>1750</td><td>14.8</td><td>67067</td><td>72.78</td></tr></tbody></table></div>"
      ],
      "text/plain": [
       "shape: (3, 5)\n",
       "┌───────────────────┬─────────────┬─────────────┬──────────────┬──────────────┐\n",
       "│ Temporal behavior ┆ Sources [#] ┆ Sources [%] ┆ Sessions [#] ┆ Sessions [%] │\n",
       "│ ---               ┆ ---         ┆ ---         ┆ ---          ┆ ---          │\n",
       "│ str               ┆ u32         ┆ f64         ┆ u32          ┆ f64          │\n",
       "╞═══════════════════╪═════════════╪═════════════╪══════════════╪══════════════╡\n",
       "│ One-off           ┆ 8244        ┆ 69.71       ┆ 8244         ┆ 8.95         │\n",
       "│ Intermittent      ┆ 1832        ┆ 15.49       ┆ 16842        ┆ 18.28        │\n",
       "│ Periodic          ┆ 1750        ┆ 14.8        ┆ 67067        ┆ 72.78        │\n",
       "└───────────────────┴─────────────┴─────────────┴──────────────┴──────────────┘"
      ]
     },
     "execution_count": 31,
     "metadata": {},
     "output_type": "execute_result"
    }
   ],
   "source": [
    "tmp.group_by('Temporal behavior').agg(\n",
    "    pl.col('scan_source_128').n_unique().alias('Sources [#]'),\n",
    "    pl.col('scan_source_128').n_unique().truediv(total_sources).mul(100).round(2).alias('Sources [%]'),\n",
    "    pl.col('Session_ID_128').n_unique().alias('Sessions [#]'),\n",
    "    pl.col('Session_ID_128').n_unique().truediv(total_sessions).mul(100).round(2).alias('Sessions [%]')\n",
    ").sort(by='Sources [#]',descending=True)"
   ]
  },
  {
   "cell_type": "code",
   "execution_count": 32,
   "id": "2538a9c0-abff-44a6-8e45-ff289792e4e5",
   "metadata": {},
   "outputs": [
    {
     "data": {
      "text/html": [
       "<div><style>\n",
       ".dataframe > thead > tr,\n",
       ".dataframe > tbody > tr {\n",
       "  text-align: right;\n",
       "  white-space: pre-wrap;\n",
       "}\n",
       "</style>\n",
       "<small>shape: (4, 5)</small><table border=\"1\" class=\"dataframe\"><thead><tr><th>Network selection</th><th>Sources [#]</th><th>Sources [%]</th><th>Sessions [#]</th><th>Sessions [%]</th></tr><tr><td>cat</td><td>u32</td><td>f64</td><td>u32</td><td>f64</td></tr></thead><tbody><tr><td>&quot;single_prefix&quot;</td><td>10703</td><td>90.5</td><td>17939</td><td>19.47</td></tr><tr><td>&quot;independent&quot;</td><td>1035</td><td>8.75</td><td>28433</td><td>30.85</td></tr><tr><td>&quot;inconsistent&quot;</td><td>64</td><td>0.54</td><td>44294</td><td>48.07</td></tr><tr><td>&quot;dependent&quot;</td><td>24</td><td>0.2</td><td>1487</td><td>1.61</td></tr></tbody></table></div>"
      ],
      "text/plain": [
       "shape: (4, 5)\n",
       "┌───────────────────┬─────────────┬─────────────┬──────────────┬──────────────┐\n",
       "│ Network selection ┆ Sources [#] ┆ Sources [%] ┆ Sessions [#] ┆ Sessions [%] │\n",
       "│ ---               ┆ ---         ┆ ---         ┆ ---          ┆ ---          │\n",
       "│ cat               ┆ u32         ┆ f64         ┆ u32          ┆ f64          │\n",
       "╞═══════════════════╪═════════════╪═════════════╪══════════════╪══════════════╡\n",
       "│ single_prefix     ┆ 10703       ┆ 90.5        ┆ 17939        ┆ 19.47        │\n",
       "│ independent       ┆ 1035        ┆ 8.75        ┆ 28433        ┆ 30.85        │\n",
       "│ inconsistent      ┆ 64          ┆ 0.54        ┆ 44294        ┆ 48.07        │\n",
       "│ dependent         ┆ 24          ┆ 0.2         ┆ 1487         ┆ 1.61         │\n",
       "└───────────────────┴─────────────┴─────────────┴──────────────┴──────────────┘"
      ]
     },
     "execution_count": 32,
     "metadata": {},
     "output_type": "execute_result"
    }
   ],
   "source": [
    "tmp.group_by('scan_behavior_128').agg(\n",
    "    pl.col('scan_source_128').n_unique().alias('Sources [#]'),\n",
    "    pl.col('scan_source_128').n_unique().truediv(total_sources).mul(100).round(2).alias('Sources [%]'),\n",
    "    pl.col('Session_ID_128').n_unique().alias('Sessions [#]'),\n",
    "    pl.col('Session_ID_128').n_unique().truediv(total_sessions).mul(100).round(2).alias('Sessions [%]')\n",
    ").sort(by='Sources [#]',descending=True).rename({'scan_behavior_128':'Network selection'})"
   ]
  },
  {
   "cell_type": "markdown",
   "id": "fa692796-f645-4233-bafc-acd01adc53c3",
   "metadata": {},
   "source": [
    "# Table 7"
   ]
  },
  {
   "cell_type": "code",
   "execution_count": 33,
   "id": "5ea556e1-2a68-4d27-a0c7-13c95fbc37ea",
   "metadata": {},
   "outputs": [],
   "source": [
    "rdns = pl.read_csv(RDNS_DATA_FILE,separator='|',has_header=False,new_columns=['Source_Address','ptr_record'])"
   ]
  },
  {
   "cell_type": "code",
   "execution_count": 34,
   "id": "257abe34-7443-44eb-a162-8e4539465616",
   "metadata": {},
   "outputs": [],
   "source": [
    "rdns = rdns.filter(\n",
    "    ~(pl.col('ptr_record').is_null()) & \n",
    "    ~(pl.col('ptr_record').str.contains(';; Warning: ID mismatch:',literal=True)) & \n",
    "    ~(pl.col('ptr_record').is_in(['No PTR record found',';; communications error to 8.8.8.8#53: timed out']))\n",
    ")"
   ]
  },
  {
   "cell_type": "code",
   "execution_count": 35,
   "id": "e35afe88-bd22-461b-90a1-e13cde28c8b8",
   "metadata": {},
   "outputs": [],
   "source": [
    "rdns = rdns.to_pandas()"
   ]
  },
  {
   "cell_type": "code",
   "execution_count": 36,
   "id": "90271c9b-91bd-4de8-84bd-1922779a8f7a",
   "metadata": {},
   "outputs": [],
   "source": [
    "def get_domain(ptr,level,join=False):\n",
    "    split = ptr.split('.')\n",
    "    if len(split)>=level+1:\n",
    "        if join:\n",
    "            return '.'.join(split[-(level+1):])\n",
    "        else:\n",
    "            return split[-(level+1)]\n",
    "    else:\n",
    "        if join:\n",
    "            return ptr\n",
    "        else:\n",
    "            return split[0]"
   ]
  },
  {
   "cell_type": "code",
   "execution_count": 37,
   "id": "8697ad20-a06f-4823-815a-a3c6ed431fc5",
   "metadata": {},
   "outputs": [],
   "source": [
    "rdns['sld_joined'] = rdns.ptr_record.apply(get_domain,args=(2,True))\n",
    "rdns['thirdld_joined'] = rdns.ptr_record.apply(get_domain,args=(3,True))"
   ]
  },
  {
   "cell_type": "code",
   "execution_count": 38,
   "id": "edaa649e-35de-484b-96ed-2b9f0b285358",
   "metadata": {},
   "outputs": [],
   "source": [
    "rdns = pl.from_pandas(rdns)"
   ]
  },
  {
   "cell_type": "code",
   "execution_count": 39,
   "id": "cad58c50-3c4f-4847-b994-cdc959fad732",
   "metadata": {},
   "outputs": [],
   "source": [
    "rdns = rdns.with_columns(\n",
    "    pl.col('Source_Address').cast(pl.Categorical)\n",
    ")"
   ]
  },
  {
   "cell_type": "code",
   "execution_count": 40,
   "id": "899328d6-f262-426f-8ee5-43b0a0f8478f",
   "metadata": {},
   "outputs": [],
   "source": [
    "t1 = dft1.select(['Source_Address','AS-Number','scantool','scan_source_128','Session_ID_128']).collect().join(rdns,how='left',on='Source_Address')"
   ]
  },
  {
   "cell_type": "code",
   "execution_count": 41,
   "id": "795a3672-e7e7-48e8-8116-14bce633731e",
   "metadata": {},
   "outputs": [],
   "source": [
    "t1 = t1.with_columns(\n",
    "    pl.when(pl.col('sld_joined').str.contains('caida'))\n",
    "    .then(pl.lit('Caida Ark'))\n",
    "    .otherwise(pl.col('scantool')).alias('final_source')\n",
    ")"
   ]
  },
  {
   "cell_type": "code",
   "execution_count": 42,
   "id": "58b73463-e5c2-4657-b187-275861257756",
   "metadata": {},
   "outputs": [],
   "source": [
    "total_sources = t1.select('scan_source_128').n_unique()\n",
    "total_sessions = t1.select('Session_ID_128').n_unique()"
   ]
  },
  {
   "cell_type": "code",
   "execution_count": 43,
   "id": "b2cf5ac2-15ab-4b14-9baa-65ac82028dce",
   "metadata": {},
   "outputs": [],
   "source": [
    "t1 = t1.with_columns(\n",
    "    pl.col(\"final_source\").cast(str).replace([\"Trace6\", \"HRoute6\"], [\"Htrace6\", \"Htrace6\"])\n",
    ")"
   ]
  },
  {
   "cell_type": "code",
   "execution_count": 44,
   "id": "ed11baea-a001-4a3b-b163-5fe5426f3f51",
   "metadata": {},
   "outputs": [
    {
     "data": {
      "text/html": [
       "<div>\n",
       "<style scoped>\n",
       "    .dataframe tbody tr th:only-of-type {\n",
       "        vertical-align: middle;\n",
       "    }\n",
       "\n",
       "    .dataframe tbody tr th {\n",
       "        vertical-align: top;\n",
       "    }\n",
       "\n",
       "    .dataframe thead th {\n",
       "        text-align: right;\n",
       "    }\n",
       "</style>\n",
       "<table border=\"1\" class=\"dataframe\">\n",
       "  <thead>\n",
       "    <tr style=\"text-align: right;\">\n",
       "      <th></th>\n",
       "      <th>Sources [#]</th>\n",
       "      <th>Sources [%]</th>\n",
       "      <th>Sessions [#]</th>\n",
       "      <th>Sessions [%]</th>\n",
       "    </tr>\n",
       "    <tr>\n",
       "      <th>final_source</th>\n",
       "      <th></th>\n",
       "      <th></th>\n",
       "      <th></th>\n",
       "      <th></th>\n",
       "    </tr>\n",
       "  </thead>\n",
       "  <tbody>\n",
       "    <tr>\n",
       "      <th>RIPEAtlasProbe</th>\n",
       "      <td>6484</td>\n",
       "      <td>54.83</td>\n",
       "      <td>11864</td>\n",
       "      <td>12.87</td>\n",
       "    </tr>\n",
       "    <tr>\n",
       "      <th>Yarrp6</th>\n",
       "      <td>22</td>\n",
       "      <td>0.19</td>\n",
       "      <td>562</td>\n",
       "      <td>0.61</td>\n",
       "    </tr>\n",
       "    <tr>\n",
       "      <th>Traceroute</th>\n",
       "      <td>19</td>\n",
       "      <td>0.16</td>\n",
       "      <td>163</td>\n",
       "      <td>0.18</td>\n",
       "    </tr>\n",
       "    <tr>\n",
       "      <th>Htrace6</th>\n",
       "      <td>9</td>\n",
       "      <td>0.08</td>\n",
       "      <td>16</td>\n",
       "      <td>0.02</td>\n",
       "    </tr>\n",
       "    <tr>\n",
       "      <th>6Seeks</th>\n",
       "      <td>5</td>\n",
       "      <td>0.04</td>\n",
       "      <td>17</td>\n",
       "      <td>0.02</td>\n",
       "    </tr>\n",
       "    <tr>\n",
       "      <th>6Scan</th>\n",
       "      <td>3</td>\n",
       "      <td>0.03</td>\n",
       "      <td>17</td>\n",
       "      <td>0.02</td>\n",
       "    </tr>\n",
       "    <tr>\n",
       "      <th>CAIDA Ark</th>\n",
       "      <td>2</td>\n",
       "      <td>0.02</td>\n",
       "      <td>2019</td>\n",
       "      <td>2.19</td>\n",
       "    </tr>\n",
       "  </tbody>\n",
       "</table>\n",
       "</div>"
      ],
      "text/plain": [
       "                Sources [#]  Sources [%]  Sessions [#]  Sessions [%]\n",
       "final_source                                                        \n",
       "RIPEAtlasProbe         6484        54.83         11864         12.87\n",
       "Yarrp6                   22         0.19           562          0.61\n",
       "Traceroute               19         0.16           163          0.18\n",
       "Htrace6                   9         0.08            16          0.02\n",
       "6Seeks                    5         0.04            17          0.02\n",
       "6Scan                     3         0.03            17          0.02\n",
       "CAIDA Ark                 2         0.02          2019          2.19"
      ]
     },
     "execution_count": 44,
     "metadata": {},
     "output_type": "execute_result"
    }
   ],
   "source": [
    "t1.group_by('final_source').agg(\n",
    "    pl.col('scan_source_128').n_unique().alias('Sources [#]'),\n",
    "    pl.col('scan_source_128').n_unique().truediv(total_sources).mul(100).round(2).alias('Sources [%]'),\n",
    "    pl.col('Session_ID_128').n_unique().alias('Sessions [#]'),\n",
    "    pl.col('Session_ID_128').n_unique().truediv(total_sessions).mul(100).round(2).alias('Sessions [%]')\n",
    ").sort('Sources [#]',descending=True).filter(pl.col('final_source').is_in(['RIPEAtlasProbe','Yarrp6','Traceroute','Htrace6','6Seek','6Scan','Caida Ark'])).to_pandas().set_index('final_source').rename(index={\"6Seek\": \"6Seeks\",'Caida Ark':'CAIDA Ark'})"
   ]
  },
  {
   "cell_type": "markdown",
   "id": "2305f30c-d47a-4374-a91f-7dc3f7c4a5ac",
   "metadata": {},
   "source": [
    "# Table 8"
   ]
  },
  {
   "cell_type": "code",
   "execution_count": 45,
   "id": "921161a3-45a8-4879-a8c4-6f338000d971",
   "metadata": {},
   "outputs": [],
   "source": [
    "total_packets=len(t1)"
   ]
  },
  {
   "cell_type": "code",
   "execution_count": 46,
   "id": "1dc34cfe-27b2-4002-89eb-6e82469aa7f8",
   "metadata": {},
   "outputs": [],
   "source": [
    "heavy_hitters = t1.select(pl.col('scan_source_128').value_counts(sort=True,normalize=True))\\\n",
    "                    .unnest('scan_source_128')\\\n",
    "                    .filter(pl.col('proportion')>=0.1)\\\n",
    "                    .select(pl.col('scan_source_128')).to_series().to_list()"
   ]
  },
  {
   "cell_type": "code",
   "execution_count": 47,
   "id": "101a8de9-0861-42e7-a595-fbd97f753dbd",
   "metadata": {},
   "outputs": [],
   "source": [
    "asn2type = pl.read_parquet(ASN_TYPE_FILE)"
   ]
  },
  {
   "cell_type": "code",
   "execution_count": 48,
   "id": "2d47393b-8cdb-4f38-9d08-aee2d966c778",
   "metadata": {},
   "outputs": [],
   "source": [
    "asn2type = asn2type.with_columns(\n",
    "    (pl.col('asn').str.replace('AS','').str.to_integer().cast(pl.Int32)).alias('AS-Number')\n",
    "    ).unique(subset=['AS-Number','type']).rename({'type':'asn_type'})[['AS-Number','asn_type']]"
   ]
  },
  {
   "cell_type": "code",
   "execution_count": 49,
   "id": "17b47683-cf6e-417d-bfb3-26ac9384827d",
   "metadata": {},
   "outputs": [],
   "source": [
    "t1 = t1.join(asn2type, how='left', on='AS-Number')"
   ]
  },
  {
   "cell_type": "code",
   "execution_count": 50,
   "id": "0b48c476-f8c5-4e40-9286-5474c0962e50",
   "metadata": {},
   "outputs": [],
   "source": [
    "tmp1 = t1.filter(~(pl.col('scan_source_128').is_in(heavy_hitters)) & (pl.col('asn_type')=='hosting')).select(\n",
    "        pl.col('scan_source_128').n_unique().alias('Sources [#]'),\n",
    "        pl.col('scan_source_128').n_unique().truediv(total_sources).mul(100).round(2).alias('Sources [%]'),\n",
    "        pl.col('Session_ID_128').n_unique().alias('Sessions [#]'),\n",
    "        pl.col('Session_ID_128').n_unique().truediv(total_sessions).mul(100).round(2).alias('Sessions [%]'),\n",
    "        pl.col('Session_ID_128').len().alias('Packets [#]'),\n",
    "        pl.col('Session_ID_128').len().truediv(total_packets).mul(100).round(2).alias('Packets [%]')\n",
    "    ).with_columns(pl.lit(\"w/o Hit.\").alias(\"asn_type\")).select([\"asn_type\", \"Sources [#]\", \"Sources [%]\", \"Sessions [#]\", \"Sessions [%]\", \"Packets [#]\", \"Packets [%]\"])"
   ]
  },
  {
   "cell_type": "code",
   "execution_count": 51,
   "id": "00403bfe-671b-4348-b185-aa8298302ab0",
   "metadata": {},
   "outputs": [],
   "source": [
    "tmp2 = t1.filter(~(pl.col('scan_source_128').is_in(heavy_hitters)) & (pl.col('asn_type')=='education')).select(\n",
    "        pl.col('scan_source_128').n_unique().alias('Sources [#]'),\n",
    "        pl.col('scan_source_128').n_unique().truediv(total_sources).mul(100).round(2).alias('Sources [%]'),\n",
    "        pl.col('Session_ID_128').n_unique().alias('Sessions [#]'),\n",
    "        pl.col('Session_ID_128').n_unique().truediv(total_sessions).mul(100).round(2).alias('Sessions [%]'),\n",
    "        pl.col('Session_ID_128').len().alias('Packets [#]'),\n",
    "        pl.col('Session_ID_128').len().truediv(total_packets).mul(100).round(2).alias('Packets [%]')\n",
    "    ).with_columns(pl.lit(\"w/o Hit.\").alias(\"asn_type\")).select([\"asn_type\", \"Sources [#]\", \"Sources [%]\", \"Sessions [#]\", \"Sessions [%]\", \"Packets [#]\", \"Packets [%]\"])"
   ]
  },
  {
   "cell_type": "code",
   "execution_count": 52,
   "id": "e548661e-ff62-43fd-b988-c47135ae3956",
   "metadata": {},
   "outputs": [],
   "source": [
    "tmp3 = t1.group_by('asn_type').agg(\n",
    "    pl.col('scan_source_128').n_unique().alias('Sources [#]'),\n",
    "    pl.col('scan_source_128').n_unique().truediv(total_sources).mul(100).round(2).alias('Sources [%]'),\n",
    "    pl.col('Session_ID_128').n_unique().alias('Sessions [#]'),\n",
    "    pl.col('Session_ID_128').n_unique().truediv(total_sessions).mul(100).round(2).alias('Sessions [%]'),\n",
    "    pl.col('Session_ID_128').len().alias('Packets [#]'),\n",
    "    pl.col('Session_ID_128').len().truediv(total_packets).mul(100).round(2).alias('Packets [%]')\n",
    ").sort('Sources [#]',descending=True)"
   ]
  },
  {
   "cell_type": "code",
   "execution_count": 53,
   "id": "58f382c3-d29b-4122-bbe9-e2ff2ab81575",
   "metadata": {},
   "outputs": [],
   "source": [
    "table_df = tmp3.vstack(tmp1).vstack(tmp2)\\\n",
    "        .sort('Sources [#]', descending=True)\\\n",
    "        .to_pandas().set_index('asn_type').rename(index={None:'unknown'})\n",
    "\n",
    "if 'unknown' in table_df.index:\n",
    "    unknown_row = table_df.loc[['unknown']]\n",
    "    table_df = table_df.drop(index='unknown')\n",
    "    table_df = pd.concat([table_df, unknown_row])"
   ]
  },
  {
   "cell_type": "code",
   "execution_count": 54,
   "id": "4aec4c98-63a3-4528-a3cb-d59bda4d1d2d",
   "metadata": {},
   "outputs": [
    {
     "data": {
      "text/html": [
       "<div>\n",
       "<style scoped>\n",
       "    .dataframe tbody tr th:only-of-type {\n",
       "        vertical-align: middle;\n",
       "    }\n",
       "\n",
       "    .dataframe tbody tr th {\n",
       "        vertical-align: top;\n",
       "    }\n",
       "\n",
       "    .dataframe thead th {\n",
       "        text-align: right;\n",
       "    }\n",
       "</style>\n",
       "<table border=\"1\" class=\"dataframe\">\n",
       "  <thead>\n",
       "    <tr style=\"text-align: right;\">\n",
       "      <th></th>\n",
       "      <th>Sources [#]</th>\n",
       "      <th>Sources [%]</th>\n",
       "      <th>Sessions [#]</th>\n",
       "      <th>Sessions [%]</th>\n",
       "      <th>Packets [#]</th>\n",
       "      <th>Packets [%]</th>\n",
       "    </tr>\n",
       "    <tr>\n",
       "      <th>asn_type</th>\n",
       "      <th></th>\n",
       "      <th></th>\n",
       "      <th></th>\n",
       "      <th></th>\n",
       "      <th></th>\n",
       "      <th></th>\n",
       "    </tr>\n",
       "  </thead>\n",
       "  <tbody>\n",
       "    <tr>\n",
       "      <th>hosting</th>\n",
       "      <td>6624</td>\n",
       "      <td>56.01</td>\n",
       "      <td>23682</td>\n",
       "      <td>25.70</td>\n",
       "      <td>28371475</td>\n",
       "      <td>65.06</td>\n",
       "    </tr>\n",
       "    <tr>\n",
       "      <th>w/o Hit.</th>\n",
       "      <td>6621</td>\n",
       "      <td>55.99</td>\n",
       "      <td>23674</td>\n",
       "      <td>25.69</td>\n",
       "      <td>4496454</td>\n",
       "      <td>10.31</td>\n",
       "    </tr>\n",
       "    <tr>\n",
       "      <th>isp</th>\n",
       "      <td>4681</td>\n",
       "      <td>39.58</td>\n",
       "      <td>46864</td>\n",
       "      <td>50.85</td>\n",
       "      <td>1478591</td>\n",
       "      <td>3.39</td>\n",
       "    </tr>\n",
       "    <tr>\n",
       "      <th>education</th>\n",
       "      <td>245</td>\n",
       "      <td>2.07</td>\n",
       "      <td>17634</td>\n",
       "      <td>19.14</td>\n",
       "      <td>13629270</td>\n",
       "      <td>31.25</td>\n",
       "    </tr>\n",
       "    <tr>\n",
       "      <th>w/o Hit.</th>\n",
       "      <td>244</td>\n",
       "      <td>2.06</td>\n",
       "      <td>17627</td>\n",
       "      <td>19.13</td>\n",
       "      <td>4375030</td>\n",
       "      <td>10.03</td>\n",
       "    </tr>\n",
       "    <tr>\n",
       "      <th>business</th>\n",
       "      <td>194</td>\n",
       "      <td>1.64</td>\n",
       "      <td>2259</td>\n",
       "      <td>2.45</td>\n",
       "      <td>71689</td>\n",
       "      <td>0.16</td>\n",
       "    </tr>\n",
       "    <tr>\n",
       "      <th>government</th>\n",
       "      <td>6</td>\n",
       "      <td>0.05</td>\n",
       "      <td>7</td>\n",
       "      <td>0.01</td>\n",
       "      <td>96</td>\n",
       "      <td>0.00</td>\n",
       "    </tr>\n",
       "    <tr>\n",
       "      <th>unknown</th>\n",
       "      <td>76</td>\n",
       "      <td>0.64</td>\n",
       "      <td>1707</td>\n",
       "      <td>1.85</td>\n",
       "      <td>58527</td>\n",
       "      <td>0.13</td>\n",
       "    </tr>\n",
       "  </tbody>\n",
       "</table>\n",
       "</div>"
      ],
      "text/plain": [
       "            Sources [#]  Sources [%]  Sessions [#]  Sessions [%]  Packets [#]  \\\n",
       "asn_type                                                                        \n",
       "hosting            6624        56.01         23682         25.70     28371475   \n",
       "w/o Hit.           6621        55.99         23674         25.69      4496454   \n",
       "isp                4681        39.58         46864         50.85      1478591   \n",
       "education           245         2.07         17634         19.14     13629270   \n",
       "w/o Hit.            244         2.06         17627         19.13      4375030   \n",
       "business            194         1.64          2259          2.45        71689   \n",
       "government            6         0.05             7          0.01           96   \n",
       "unknown              76         0.64          1707          1.85        58527   \n",
       "\n",
       "            Packets [%]  \n",
       "asn_type                 \n",
       "hosting           65.06  \n",
       "w/o Hit.          10.31  \n",
       "isp                3.39  \n",
       "education         31.25  \n",
       "w/o Hit.          10.03  \n",
       "business           0.16  \n",
       "government         0.00  \n",
       "unknown            0.13  "
      ]
     },
     "execution_count": 54,
     "metadata": {},
     "output_type": "execute_result"
    }
   ],
   "source": [
    "table_df"
   ]
  },
  {
   "cell_type": "code",
   "execution_count": null,
   "id": "9781e771-fc1c-4d49-9a82-c5adc80b3ad6",
   "metadata": {},
   "outputs": [],
   "source": []
  }
 ],
 "metadata": {
  "kernelspec": {
   "display_name": "Python 3 (ipykernel)",
   "language": "python",
   "name": "python3"
  },
  "language_info": {
   "codemirror_mode": {
    "name": "ipython",
    "version": 3
   },
   "file_extension": ".py",
   "mimetype": "text/x-python",
   "name": "python",
   "nbconvert_exporter": "python",
   "pygments_lexer": "ipython3",
   "version": "3.12.3"
  }
 },
 "nbformat": 4,
 "nbformat_minor": 5
}
